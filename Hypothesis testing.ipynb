{
 "cells": [
  {
   "cell_type": "markdown",
   "id": "deffe2e1-868f-4be7-b9d5-5582da0d57d7",
   "metadata": {},
   "source": [
    "# Hypothesis Testing"
   ]
  },
  {
   "cell_type": "markdown",
   "id": "9e3c310d-c6de-493f-9d1c-35189325039f",
   "metadata": {},
   "source": [
    "# Z-TEST"
   ]
  },
  {
   "cell_type": "markdown",
   "id": "bb4f0524-b82c-4b53-b249-c560f44f0b98",
   "metadata": {},
   "source": [
    "# Scenario:\n",
    "Bombay hospitality Ltd. operates a franchise model for\n",
    "producing exotic Norwegian dinners throughout New England.\n",
    "The operating cost for a franchise in a week (W) is given by\n",
    "the equation W = $1,000 + $5X, where X represents the number\n",
    "of units produced in a week. Recent feedback from restaurant owners suggests that this cost model may no longer be accurate, as their observed weekly operating costs are higher.\n",
    "```\n",
    "# Objective:\n",
    "To investigate the restaurant owners' claim about the increase\n",
    "in weekly operating costs using hypothesis testing."
   ]
  },
  {
   "cell_type": "markdown",
   "id": "805a7608-a180-47a0-b8e4-edccacb63c3a",
   "metadata": {},
   "source": [
    "# given data\n",
    "-->Given Data\n",
    "* sample_mean(x_bar) = 3050\n",
    "* theoretical_mean(mu) = 4000\n",
    "* sigma = 125\n",
    "* n = 25\n",
    "```"
   ]
  },
  {
   "cell_type": "markdown",
   "id": "2e0d18f8-777f-4e77-a6a5-f6075abc6641",
   "metadata": {},
   "source": [
    "# Task 1: State the Hypotheses Statement"
   ]
  },
  {
   "cell_type": "markdown",
   "id": "d8a595ea-8c09-48f8-b1a6-ea60c7064457",
   "metadata": {},
   "source": [
    "* H0:The weekly operating cost model is accurate==4000\n",
    "* H1:The weekly operating cost is higher than the model suggests--> μ > 4,000"
   ]
  },
  {
   "cell_type": "code",
   "execution_count": 20,
   "id": "5312a115-0e8c-4423-89e1-e54e80501069",
   "metadata": {},
   "outputs": [],
   "source": [
    "## import the pakages"
   ]
  },
  {
   "cell_type": "code",
   "execution_count": 22,
   "id": "167ff224-03f7-454a-a410-68885a1e3d8b",
   "metadata": {},
   "outputs": [],
   "source": [
    "import numpy as np\n",
    "import scipy.stats as stats\n"
   ]
  },
  {
   "cell_type": "code",
   "execution_count": 24,
   "id": "a66d70e5-5414-4740-937f-de5ffe37152c",
   "metadata": {},
   "outputs": [],
   "source": [
    "# Given Data\n",
    "sample_mean = 3050      # x̄\n",
    "theoretical_mean = 4000 # μ\n",
    "sigma = 125             # σ\n",
    "n = 25"
   ]
  },
  {
   "cell_type": "code",
   "execution_count": 26,
   "id": "2cbd0396-d36c-44c2-9d17-3b94974f8afd",
   "metadata": {},
   "outputs": [
    {
     "name": "stdout",
     "output_type": "stream",
     "text": [
      "Test Statistic: -38.0\n",
      "Critical Value: 1.959963984540054\n",
      "Fail to reject the null hypothesis. There is no strong evidence to support the restaurant owners' claim.\n"
     ]
    }
   ],
   "source": [
    "# 2. Calculate test statistic(z= (x̄ - μ) / (σ / √n))\n",
    "Z_stats = (sample_mean - theoretical_mean) / (sigma / np.sqrt(n))\n",
    "print(\"Test Statistic:\", Z_stats)\n",
    "\n",
    "# 3.Determine critical value\n",
    "alpha = 0.05            # 5% == 5/100==0.05\n",
    "critical_value=stats.norm.ppf(0.975)\n",
    "print(\"Critical Value:\", critical_value)\n",
    "\n",
    "\"\"\"100-(Alpha/2)== (100-0.025)==0.975).\n",
    "ppf is the function called  point of percentile in python to get  z-critical value\n",
    "print(\"Critical Value:\", critical_value)\"\"\"\n",
    "\n",
    "# 4. Make a decision\n",
    "if Z_stats > critical_value:\n",
    "    print(\"Reject the null hypothesis. There is strong evidence to support the restaurant owners' claim.\")\n",
    "else:\n",
    "    print(\"Fail to reject the null hypothesis. There is no strong evidence to support the restaurant owners' claim.\")"
   ]
  },
  {
   "cell_type": "markdown",
   "id": "7a36d542-d0b6-45e6-b330-22736099b0f5",
   "metadata": {},
   "source": [
    "# 5.Conclusion\n"
   ]
  },
  {
   "cell_type": "raw",
   "id": "6373037a-3a07-4dd5-85a0-6c187f68d667",
   "metadata": {},
   "source": [
    "# to deside on the decision, there is strong evidence to support\n",
    "the restaurant owners' claim that the weekly operating costs\n",
    "are higher than the model suggests."
   ]
  },
  {
   "cell_type": "raw",
   "id": "339b164d-024d-4112-88d6-86dde0c3e0f4",
   "metadata": {},
   "source": []
  },
  {
   "cell_type": "markdown",
   "id": "7d786d4f-60bc-4f74-a4d9-06cd071d9d21",
   "metadata": {},
   "source": [
    "# **Chisquare test**"
   ]
  },
  {
   "cell_type": "markdown",
   "id": "84a7fcb9-e931-4508-a586-9a2077d1254c",
   "metadata": {},
   "source": [
    "# Scenario:\n",
    "Mizzare Corporation has collected data on customer\n",
    "satisfaction levels for two types of smart home devices:\n",
    "Smart Thermostats and Smart Lights. They want to determine\n",
    "if there's a significant association between the type of\n",
    "device purchased and the customer's satisfaction level.\n",
    "\n",
    "# Objective:\n",
    "To use the Chi-Square test for independence to determine if\n",
    "there's a significant association between the type of smart\n",
    "home device purchased (Smart Thermostats vs. Smart Lights)\n",
    "and the customer satisfaction level."
   ]
  },
  {
   "cell_type": "raw",
   "id": "c32bbc8e-e751-4a92-8a47-55896b3853c6",
   "metadata": {},
   "source": [
    "given data\n",
    "\n",
    "Satisfaction\tSmart Thermostat\tSmart Light\t     Total\n",
    "\n",
    "Very Satisfied\t      50\t            70\t          120\n",
    "\n",
    "Satisfied\t          80\t            100\t          180\n",
    "\n",
    "Neutral\t              60\t            90\t          150\n",
    "\n",
    "Unsatisfied\t          30\t            50\t           80\n",
    "\n",
    "Very Unsatisfied\t  20\t            50\t           70\n",
    "\n",
    "Total\t             240\t            360\t          600\n"
   ]
  },
  {
   "cell_type": "markdown",
   "id": "eae43152-1984-40ca-9016-761ecfeeaae2",
   "metadata": {},
   "source": [
    "#### To find the Hypothesis:"
   ]
  },
  {
   "cell_type": "code",
   "execution_count": 37,
   "id": "7269cadc-40e5-4031-8bd5-cc91e931ae02",
   "metadata": {},
   "outputs": [],
   "source": [
    "#Null Hypothesis (H₀): No association between device type and customer satisfaction.\n",
    "#Alternative Hypothesis (H₁): There is an association between device type and customer satisfaction."
   ]
  },
  {
   "cell_type": "markdown",
   "id": "fa19b318-be6b-4110-b222-6053c5aecaad",
   "metadata": {},
   "source": [
    "# To find the Chi-Square Statistic:"
   ]
  },
  {
   "cell_type": "code",
   "execution_count": 41,
   "id": "259ba789-e568-4811-b16a-34c5ddf4afbd",
   "metadata": {},
   "outputs": [],
   "source": [
    "#import the palkages"
   ]
  },
  {
   "cell_type": "code",
   "execution_count": 43,
   "id": "8c1144cc-0627-4137-9bce-32e55f6f60be",
   "metadata": {},
   "outputs": [],
   "source": [
    "import numpy as np\n",
    "import pandas as pd"
   ]
  },
  {
   "cell_type": "code",
   "execution_count": 47,
   "id": "2090ad8f-4330-4dbe-ac21-1d823c25c9c8",
   "metadata": {},
   "outputs": [
    {
     "data": {
      "text/html": [
       "<div>\n",
       "<style scoped>\n",
       "    .dataframe tbody tr th:only-of-type {\n",
       "        vertical-align: middle;\n",
       "    }\n",
       "\n",
       "    .dataframe tbody tr th {\n",
       "        vertical-align: top;\n",
       "    }\n",
       "\n",
       "    .dataframe thead th {\n",
       "        text-align: right;\n",
       "    }\n",
       "</style>\n",
       "<table border=\"1\" class=\"dataframe\">\n",
       "  <thead>\n",
       "    <tr style=\"text-align: right;\">\n",
       "      <th></th>\n",
       "      <th>Smart Thermostat</th>\n",
       "      <th>Smart Light</th>\n",
       "    </tr>\n",
       "  </thead>\n",
       "  <tbody>\n",
       "    <tr>\n",
       "      <th>Neutral</th>\n",
       "      <td>90</td>\n",
       "      <td>60</td>\n",
       "    </tr>\n",
       "    <tr>\n",
       "      <th>Satisfied</th>\n",
       "      <td>100</td>\n",
       "      <td>80</td>\n",
       "    </tr>\n",
       "    <tr>\n",
       "      <th>Unsatisfied</th>\n",
       "      <td>50</td>\n",
       "      <td>30</td>\n",
       "    </tr>\n",
       "    <tr>\n",
       "      <th>Very Satisfied</th>\n",
       "      <td>70</td>\n",
       "      <td>50</td>\n",
       "    </tr>\n",
       "    <tr>\n",
       "      <th>Very Unsatisfied</th>\n",
       "      <td>50</td>\n",
       "      <td>20</td>\n",
       "    </tr>\n",
       "  </tbody>\n",
       "</table>\n",
       "</div>"
      ],
      "text/plain": [
       "                  Smart Thermostat  Smart Light\n",
       "Neutral                         90           60\n",
       "Satisfied                      100           80\n",
       "Unsatisfied                     50           30\n",
       "Very Satisfied                  70           50\n",
       "Very Unsatisfied                50           20"
      ]
     },
     "execution_count": 47,
     "metadata": {},
     "output_type": "execute_result"
    }
   ],
   "source": [
    "index1 = ['Neutral', 'Satisfied', 'Unsatisfied', 'Very Satisfied', 'Very Unsatisfied']\n",
    "data = np.array([[90, 100, 50, 70, 50], [60, 80, 30, 50, 20]])\n",
    "columns = ['Smart Thermostat', 'Smart Light'] \n",
    "df = pd.DataFrame(data.T, index=index1, columns=columns)\n",
    "df"
   ]
  },
  {
   "cell_type": "code",
   "execution_count": 49,
   "id": "7936f00e-67c7-4386-a76c-802d09a7bcec",
   "metadata": {},
   "outputs": [
    {
     "data": {
      "text/plain": [
       "Chi2ContingencyResult(statistic=5.638227513227513, pvalue=0.22784371130697179, dof=4, expected_freq=array([[ 90.,  60.],\n",
       "       [108.,  72.],\n",
       "       [ 48.,  32.],\n",
       "       [ 72.,  48.],\n",
       "       [ 42.,  28.]]))"
      ]
     },
     "execution_count": 49,
     "metadata": {},
     "output_type": "execute_result"
    }
   ],
   "source": [
    "expected = stats.chi2_contingency(DF)\n",
    "expected"
   ]
  },
  {
   "cell_type": "code",
   "execution_count": 54,
   "id": "0b8a663f-e427-47e4-96cf-293fc749a65e",
   "metadata": {},
   "outputs": [],
   "source": [
    "Chi_Square_Statistic = 5.638227513227513\n",
    "pvalue = 0.22784371130697179\n",
    "dof = 5"
   ]
  },
  {
   "cell_type": "markdown",
   "id": "dc81ebce-9e63-40fb-9511-ae5ebdcc403d",
   "metadata": {},
   "source": [
    "# To find the Critical Value:"
   ]
  },
  {
   "cell_type": "code",
   "execution_count": 56,
   "id": "d622b26d-c7aa-4e75-a721-0ad6f9fe4df3",
   "metadata": {},
   "outputs": [
    {
     "data": {
      "text/plain": [
       "11.070497693516351"
      ]
     },
     "execution_count": 56,
     "metadata": {},
     "output_type": "execute_result"
    }
   ],
   "source": [
    "X2_critical = stats.chi2.ppf(0.95,5)\n",
    "X2_critical"
   ]
  },
  {
   "cell_type": "markdown",
   "id": "28c0624c-db1f-47a5-9e36-81febf22a9d7",
   "metadata": {},
   "source": [
    "# Conclusion"
   ]
  },
  {
   "cell_type": "raw",
   "id": "23cf08ff-c22d-4a85-8f20-87d8856054f1",
   "metadata": {
    "vscode": {
     "languageId": "raw"
    }
   },
   "source": [
    "#Chi_Square_Statistic < X2_critical\n",
    "#Then the null hypothesis is accepted then No association between device type and customer satisfaction.\n",
    "#this is know as chi_square_test."
   ]
  },
  {
   "cell_type": "code",
   "execution_count": null,
   "id": "d9f9ecc1-8d4c-4be6-8305-ab3da17602c5",
   "metadata": {},
   "outputs": [],
   "source": []
  }
 ],
 "metadata": {
  "kernelspec": {
   "display_name": "Python 3 (ipykernel)",
   "language": "python",
   "name": "python3"
  },
  "language_info": {
   "codemirror_mode": {
    "name": "ipython",
    "version": 3
   },
   "file_extension": ".py",
   "mimetype": "text/x-python",
   "name": "python",
   "nbconvert_exporter": "python",
   "pygments_lexer": "ipython3",
   "version": "3.12.4"
  }
 },
 "nbformat": 4,
 "nbformat_minor": 5
}
