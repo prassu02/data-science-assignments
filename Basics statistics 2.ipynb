{
 "cells": [
  {
   "cell_type": "markdown",
   "id": "f450848f-a5ee-4bb0-8070-a05a94310375",
   "metadata": {},
   "source": [
    "# Estimation And Confidence Intervals"
   ]
  },
  {
   "cell_type": "markdown",
   "id": "e4e75932-ec41-4178-912a-33e04d7d4954",
   "metadata": {},
   "source": [
    "# a. Build 99% Confidence Interval Using Sample Standard Deviation\n",
    "Assuming the sample is representative of the population, construct a 99% confidence interval for the mean number of characters printed before the print-head fails using the sample standard deviation. Explain the steps you take and the rationale behind using the t-distribution for this task.\n"
   ]
  },
  {
   "cell_type": "markdown",
   "id": "f35122e7-816c-496b-801c-6801c9f0e1f8",
   "metadata": {},
   "source": [
    "Data\n",
    "A total of 15 print-heads were randomly selected and tested until failure. The durability of each print-head (in millions of characters) was recorded as follows:\n",
    "1.13, 1.55, 1.43, 0.92, 1.25, 1.36, 1.32, 0.85, 1.07, 1.48, 1.20, 1.33, 1.18, 1.22, 1.29\n"
   ]
  },
  {
   "cell_type": "code",
   "execution_count": 8,
   "id": "75ff4f91-efb0-4531-86b6-ad05b94aea6e",
   "metadata": {},
   "outputs": [],
   "source": [
    "#given data\n",
    "#n = 15\n",
    "#CI=0.99 ,alpa = 0.1 and alpha/2 = 0.005\n",
    "#smaple_data= [1.13,1.55,1.43,0.92,1.25,1.36,1.32,0.85,1.07,1.48,1.20,1.33,1.18,1.22,1.29]\n",
    "#n<30 we go for t-test"
   ]
  },
  {
   "cell_type": "code",
   "execution_count": 10,
   "id": "f1206ac7-9044-4bfe-8169-d925f521f151",
   "metadata": {},
   "outputs": [],
   "source": [
    "#To find populaion upper_mean and lower_mean\n",
    "#formula T_test = x_bar+-T_critical*s/sqrt(n)"
   ]
  },
  {
   "cell_type": "code",
   "execution_count": 14,
   "id": "55aa36f8-649d-4f2f-9bff-965450c0b7bd",
   "metadata": {},
   "outputs": [],
   "source": [
    "# import pakages"
   ]
  },
  {
   "cell_type": "code",
   "execution_count": 16,
   "id": "c82a972e-f41b-4c6e-b0d1-843ffb9510e8",
   "metadata": {},
   "outputs": [],
   "source": [
    "import numpy as np\n",
    "import scipy.stats as stats"
   ]
  },
  {
   "cell_type": "code",
   "execution_count": 18,
   "id": "789a1456-474a-4c44-95cc-e08db8d8c8b7",
   "metadata": {},
   "outputs": [],
   "source": [
    "# given data"
   ]
  },
  {
   "cell_type": "code",
   "execution_count": 20,
   "id": "d08801ce-017c-4af9-bb4b-0c91cbcbaadf",
   "metadata": {},
   "outputs": [],
   "source": [
    "smaple_data= [1.13,1.55,1.43,0.92,1.25,1.36,1.32,0.85,1.07,1.48,1.20,1.33,1.18,1.22,1.29]"
   ]
  },
  {
   "cell_type": "code",
   "execution_count": 22,
   "id": "e2e0f1ac-3bfd-4e8c-b21d-670f020eb13e",
   "metadata": {},
   "outputs": [],
   "source": [
    "#To find X bar value"
   ]
  },
  {
   "cell_type": "code",
   "execution_count": 24,
   "id": "684e4797-6dc2-48ca-a89f-d7660a37a4c8",
   "metadata": {},
   "outputs": [
    {
     "data": {
      "text/plain": [
       "1.2386666666666666"
      ]
     },
     "execution_count": 24,
     "metadata": {},
     "output_type": "execute_result"
    }
   ],
   "source": [
    "X_Bar = np.mean(smaple_data)\n",
    "X_Bar"
   ]
  },
  {
   "cell_type": "code",
   "execution_count": 34,
   "id": "428e7fb2-f940-4005-8265-081439229ca5",
   "metadata": {},
   "outputs": [
    {
     "data": {
      "text/plain": [
       "0.18068849806596252"
      ]
     },
     "execution_count": 34,
     "metadata": {},
     "output_type": "execute_result"
    }
   ],
   "source": [
    "#To find s value\n",
    "s_va=[]\n",
    "for i in smaple_data:\n",
    "    s=(i-X_Bar)**2\n",
    "    s_va.append(s)\n",
    "sample = sum(s_va)/16\n",
    "S_value = np.sqrt(sample)\n",
    "S_value "
   ]
  },
  {
   "cell_type": "code",
   "execution_count": 30,
   "id": "d365a77a-9b96-410d-8f5c-4ae77f808ecf",
   "metadata": {},
   "outputs": [],
   "source": [
    "# substitude the formula"
   ]
  },
  {
   "cell_type": "code",
   "execution_count": 36,
   "id": "3dfd2784-ab9c-4f3f-ac69-c8e7d2a3d32d",
   "metadata": {},
   "outputs": [
    {
     "data": {
      "text/plain": [
       "2.920781622496036"
      ]
     },
     "execution_count": 36,
     "metadata": {},
     "output_type": "execute_result"
    }
   ],
   "source": [
    "#To find T_critical\n",
    "T_critical = stats.t.ppf(0.995,16)\n",
    "T_critical"
   ]
  },
  {
   "cell_type": "code",
   "execution_count": 38,
   "id": "c04c254e-753e-4081-aaf6-95f5e7a8eca5",
   "metadata": {},
   "outputs": [
    {
     "data": {
      "text/plain": [
       "1.3749315553510628"
      ]
     },
     "execution_count": 38,
     "metadata": {},
     "output_type": "execute_result"
    }
   ],
   "source": [
    "#To find upper mean\n",
    "Upper_mean = X_Bar+(T_critical*(S_value /np.sqrt(15)))\n",
    "Upper_mean"
   ]
  },
  {
   "cell_type": "code",
   "execution_count": 40,
   "id": "ea8c2931-5863-4042-85e4-b318c24d2249",
   "metadata": {},
   "outputs": [
    {
     "data": {
      "text/plain": [
       "1.1024017779822703"
      ]
     },
     "execution_count": 40,
     "metadata": {},
     "output_type": "execute_result"
    }
   ],
   "source": [
    "#To find lower mean\n",
    "Lower_mean = X_Bar-(T_critical*(S_value /np.sqrt(15)))\n",
    "Lower_mean"
   ]
  },
  {
   "cell_type": "code",
   "execution_count": 42,
   "id": "c1393b8e-4f57-49f1-bd8a-75cc0495ae75",
   "metadata": {},
   "outputs": [],
   "source": [
    "#Then the  true mean number  lies bettween  lower mean ,upper mean"
   ]
  },
  {
   "cell_type": "markdown",
   "id": "cf309bbc-51e8-4963-acc3-4a3be51f533d",
   "metadata": {},
   "source": [
    "# b. Build 99% Confidence Interval Using Known Population Standard Deviation\n",
    "If it were known that the population standard deviation is 0.2 million characters, construct a 99% confidence interval for the mean number of characters printed before failure.\n"
   ]
  },
  {
   "cell_type": "code",
   "execution_count": 46,
   "id": "2040ec3b-c5b6-45fa-9ceb-bccb63b055da",
   "metadata": {},
   "outputs": [],
   "source": [
    "#given data\n",
    "#sigma = 0.2\n",
    "#n = 15\n",
    "#CI=0.99 ,alpa = 0.1 and alpha/2 = 0.005\n",
    "#smaple_data= [1.13,1.55,1.43,0.92,1.25,1.36,1.32,0.85,1.07,1.48,1.20,1.33,1.18,1.22,1.29]\n",
    "#Hear they provide sigma value then we go for z-test"
   ]
  },
  {
   "cell_type": "code",
   "execution_count": 48,
   "id": "30c6d9b3-c22a-4017-8a12-5a984d620889",
   "metadata": {},
   "outputs": [],
   "source": [
    "#To find populaion upper_mean and lower_mean\n",
    "#formula Z_test = x_bar+-Z_critical*sigma/sqrt(n)"
   ]
  },
  {
   "cell_type": "code",
   "execution_count": 50,
   "id": "ca5da767-a790-4768-b414-ef1705dee574",
   "metadata": {},
   "outputs": [],
   "source": [
    "# given data"
   ]
  },
  {
   "cell_type": "code",
   "execution_count": 52,
   "id": "038f23c0-8b87-4061-baa7-dad0bfa84d5e",
   "metadata": {},
   "outputs": [],
   "source": [
    "smaple_data= [1.13,1.55,1.43,0.92,1.25,1.36,1.32,0.85,1.07,1.48,1.20,1.33,1.18,1.22,1.29]"
   ]
  },
  {
   "cell_type": "code",
   "execution_count": 54,
   "id": "4a48b6b7-9810-4e43-a74d-057892de84c1",
   "metadata": {},
   "outputs": [
    {
     "data": {
      "text/plain": [
       "1.2386666666666666"
      ]
     },
     "execution_count": 54,
     "metadata": {},
     "output_type": "execute_result"
    }
   ],
   "source": [
    "#To find X bar value\n",
    "X_Bar = np.mean(smaple_data)\n",
    "X_Bar"
   ]
  },
  {
   "cell_type": "code",
   "execution_count": 58,
   "id": "b09ac912-5e9d-49d3-b7d3-d32b77b1cec5",
   "metadata": {},
   "outputs": [
    {
     "data": {
      "text/plain": [
       "2.5758293035489004"
      ]
     },
     "execution_count": 58,
     "metadata": {},
     "output_type": "execute_result"
    }
   ],
   "source": [
    "#To find Z_critical\n",
    "Z_critical = stats.norm.ppf(0.995)\n",
    "Z_critical"
   ]
  },
  {
   "cell_type": "code",
   "execution_count": 60,
   "id": "9311e2df-1906-468c-a528-47d90d31ea2e",
   "metadata": {},
   "outputs": [
    {
     "data": {
      "text/plain": [
       "1.3716819199375725"
      ]
     },
     "execution_count": 60,
     "metadata": {},
     "output_type": "execute_result"
    }
   ],
   "source": [
    "#To find upper mean\n",
    "Upper_mean = X_Bar+(Z_critical*(sigma/np.sqrt(15)))\n",
    "Upper_mean"
   ]
  },
  {
   "cell_type": "code",
   "execution_count": 62,
   "id": "45feb248-02b4-47e8-8d97-c1f09fbc17bd",
   "metadata": {},
   "outputs": [
    {
     "data": {
      "text/plain": [
       "1.1056514133957607"
      ]
     },
     "execution_count": 62,
     "metadata": {},
     "output_type": "execute_result"
    }
   ],
   "source": [
    "#To find lower mean\n",
    "Lower_mean = X_Bar-(Z_critical*(sigma/np.sqrt(15)))\n",
    "Lower_mean"
   ]
  },
  {
   "cell_type": "code",
   "execution_count": 64,
   "id": "c3bee384-7f76-468f-a9a0-e9faee02030e",
   "metadata": {},
   "outputs": [],
   "source": [
    "#There fore lower mean = 1.1056514133957607 and upper mean = 1.3716819199375725\n",
    "# This interval provides a range within which you can be 99% confident that the true population mean lies, \n",
    "#given the known population standard deviation. "
   ]
  }
 ],
 "metadata": {
  "kernelspec": {
   "display_name": "Python 3 (ipykernel)",
   "language": "python",
   "name": "python3"
  },
  "language_info": {
   "codemirror_mode": {
    "name": "ipython",
    "version": 3
   },
   "file_extension": ".py",
   "mimetype": "text/x-python",
   "name": "python",
   "nbconvert_exporter": "python",
   "pygments_lexer": "ipython3",
   "version": "3.12.4"
  }
 },
 "nbformat": 4,
 "nbformat_minor": 5
}
