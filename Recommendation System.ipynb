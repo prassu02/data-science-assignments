{
 "cells": [
  {
   "cell_type": "markdown",
   "id": "21d49eaa-9ebe-488d-9d73-309fbe64469b",
   "metadata": {},
   "source": [
    "# Recommendation System"
   ]
  },
  {
   "cell_type": "markdown",
   "id": "508e4dde-9d33-4be5-a08a-4d6122d40ae9",
   "metadata": {},
   "source": [
    "# **Recommendation System using Cosine Similarity on Anime Dataset**"
   ]
  },
  {
   "cell_type": "markdown",
   "id": "00e6543d-7a84-4dec-85f8-59b9e1354979",
   "metadata": {},
   "source": [
    "# 1. Data Preprocessing"
   ]
  },
  {
   "cell_type": "code",
   "execution_count": 1,
   "id": "dc87fbb4-a322-4d03-8a65-412f0d81fdc5",
   "metadata": {},
   "outputs": [],
   "source": [
    "#import the pakages\n",
    "import pandas as pd"
   ]
  },
  {
   "cell_type": "code",
   "execution_count": 3,
   "id": "1380b8ab-4d08-4cc6-a605-15dc4ad27125",
   "metadata": {},
   "outputs": [],
   "source": [
    "# Load the dataset"
   ]
  },
  {
   "cell_type": "code",
   "execution_count": 5,
   "id": "7d9c810c-2d9d-4ef1-a768-0467743ce9ea",
   "metadata": {},
   "outputs": [],
   "source": [
    "df= pd.read_csv('anime.csv')"
   ]
  },
  {
   "cell_type": "code",
   "execution_count": 7,
   "id": "1231eebc-ce53-418d-8f17-dfa4fcf30611",
   "metadata": {},
   "outputs": [
    {
     "data": {
      "text/html": [
       "<div>\n",
       "<style scoped>\n",
       "    .dataframe tbody tr th:only-of-type {\n",
       "        vertical-align: middle;\n",
       "    }\n",
       "\n",
       "    .dataframe tbody tr th {\n",
       "        vertical-align: top;\n",
       "    }\n",
       "\n",
       "    .dataframe thead th {\n",
       "        text-align: right;\n",
       "    }\n",
       "</style>\n",
       "<table border=\"1\" class=\"dataframe\">\n",
       "  <thead>\n",
       "    <tr style=\"text-align: right;\">\n",
       "      <th></th>\n",
       "      <th>anime_id</th>\n",
       "      <th>name</th>\n",
       "      <th>genre</th>\n",
       "      <th>type</th>\n",
       "      <th>episodes</th>\n",
       "      <th>rating</th>\n",
       "      <th>members</th>\n",
       "    </tr>\n",
       "  </thead>\n",
       "  <tbody>\n",
       "    <tr>\n",
       "      <th>0</th>\n",
       "      <td>32281</td>\n",
       "      <td>Kimi no Na wa.</td>\n",
       "      <td>Drama, Romance, School, Supernatural</td>\n",
       "      <td>Movie</td>\n",
       "      <td>1</td>\n",
       "      <td>9.37</td>\n",
       "      <td>200630</td>\n",
       "    </tr>\n",
       "    <tr>\n",
       "      <th>1</th>\n",
       "      <td>5114</td>\n",
       "      <td>Fullmetal Alchemist: Brotherhood</td>\n",
       "      <td>Action, Adventure, Drama, Fantasy, Magic, Mili...</td>\n",
       "      <td>TV</td>\n",
       "      <td>64</td>\n",
       "      <td>9.26</td>\n",
       "      <td>793665</td>\n",
       "    </tr>\n",
       "    <tr>\n",
       "      <th>2</th>\n",
       "      <td>28977</td>\n",
       "      <td>Gintama°</td>\n",
       "      <td>Action, Comedy, Historical, Parody, Samurai, S...</td>\n",
       "      <td>TV</td>\n",
       "      <td>51</td>\n",
       "      <td>9.25</td>\n",
       "      <td>114262</td>\n",
       "    </tr>\n",
       "    <tr>\n",
       "      <th>3</th>\n",
       "      <td>9253</td>\n",
       "      <td>Steins;Gate</td>\n",
       "      <td>Sci-Fi, Thriller</td>\n",
       "      <td>TV</td>\n",
       "      <td>24</td>\n",
       "      <td>9.17</td>\n",
       "      <td>673572</td>\n",
       "    </tr>\n",
       "    <tr>\n",
       "      <th>4</th>\n",
       "      <td>9969</td>\n",
       "      <td>Gintama&amp;#039;</td>\n",
       "      <td>Action, Comedy, Historical, Parody, Samurai, S...</td>\n",
       "      <td>TV</td>\n",
       "      <td>51</td>\n",
       "      <td>9.16</td>\n",
       "      <td>151266</td>\n",
       "    </tr>\n",
       "    <tr>\n",
       "      <th>...</th>\n",
       "      <td>...</td>\n",
       "      <td>...</td>\n",
       "      <td>...</td>\n",
       "      <td>...</td>\n",
       "      <td>...</td>\n",
       "      <td>...</td>\n",
       "      <td>...</td>\n",
       "    </tr>\n",
       "    <tr>\n",
       "      <th>12289</th>\n",
       "      <td>9316</td>\n",
       "      <td>Toushindai My Lover: Minami tai Mecha-Minami</td>\n",
       "      <td>Hentai</td>\n",
       "      <td>OVA</td>\n",
       "      <td>1</td>\n",
       "      <td>4.15</td>\n",
       "      <td>211</td>\n",
       "    </tr>\n",
       "    <tr>\n",
       "      <th>12290</th>\n",
       "      <td>5543</td>\n",
       "      <td>Under World</td>\n",
       "      <td>Hentai</td>\n",
       "      <td>OVA</td>\n",
       "      <td>1</td>\n",
       "      <td>4.28</td>\n",
       "      <td>183</td>\n",
       "    </tr>\n",
       "    <tr>\n",
       "      <th>12291</th>\n",
       "      <td>5621</td>\n",
       "      <td>Violence Gekiga David no Hoshi</td>\n",
       "      <td>Hentai</td>\n",
       "      <td>OVA</td>\n",
       "      <td>4</td>\n",
       "      <td>4.88</td>\n",
       "      <td>219</td>\n",
       "    </tr>\n",
       "    <tr>\n",
       "      <th>12292</th>\n",
       "      <td>6133</td>\n",
       "      <td>Violence Gekiga Shin David no Hoshi: Inma Dens...</td>\n",
       "      <td>Hentai</td>\n",
       "      <td>OVA</td>\n",
       "      <td>1</td>\n",
       "      <td>4.98</td>\n",
       "      <td>175</td>\n",
       "    </tr>\n",
       "    <tr>\n",
       "      <th>12293</th>\n",
       "      <td>26081</td>\n",
       "      <td>Yasuji no Pornorama: Yacchimae!!</td>\n",
       "      <td>Hentai</td>\n",
       "      <td>Movie</td>\n",
       "      <td>1</td>\n",
       "      <td>5.46</td>\n",
       "      <td>142</td>\n",
       "    </tr>\n",
       "  </tbody>\n",
       "</table>\n",
       "<p>12294 rows × 7 columns</p>\n",
       "</div>"
      ],
      "text/plain": [
       "       anime_id                                               name  \\\n",
       "0         32281                                     Kimi no Na wa.   \n",
       "1          5114                   Fullmetal Alchemist: Brotherhood   \n",
       "2         28977                                           Gintama°   \n",
       "3          9253                                        Steins;Gate   \n",
       "4          9969                                      Gintama&#039;   \n",
       "...         ...                                                ...   \n",
       "12289      9316       Toushindai My Lover: Minami tai Mecha-Minami   \n",
       "12290      5543                                        Under World   \n",
       "12291      5621                     Violence Gekiga David no Hoshi   \n",
       "12292      6133  Violence Gekiga Shin David no Hoshi: Inma Dens...   \n",
       "12293     26081                   Yasuji no Pornorama: Yacchimae!!   \n",
       "\n",
       "                                                   genre   type episodes  \\\n",
       "0                   Drama, Romance, School, Supernatural  Movie        1   \n",
       "1      Action, Adventure, Drama, Fantasy, Magic, Mili...     TV       64   \n",
       "2      Action, Comedy, Historical, Parody, Samurai, S...     TV       51   \n",
       "3                                       Sci-Fi, Thriller     TV       24   \n",
       "4      Action, Comedy, Historical, Parody, Samurai, S...     TV       51   \n",
       "...                                                  ...    ...      ...   \n",
       "12289                                             Hentai    OVA        1   \n",
       "12290                                             Hentai    OVA        1   \n",
       "12291                                             Hentai    OVA        4   \n",
       "12292                                             Hentai    OVA        1   \n",
       "12293                                             Hentai  Movie        1   \n",
       "\n",
       "       rating  members  \n",
       "0        9.37   200630  \n",
       "1        9.26   793665  \n",
       "2        9.25   114262  \n",
       "3        9.17   673572  \n",
       "4        9.16   151266  \n",
       "...       ...      ...  \n",
       "12289    4.15      211  \n",
       "12290    4.28      183  \n",
       "12291    4.88      219  \n",
       "12292    4.98      175  \n",
       "12293    5.46      142  \n",
       "\n",
       "[12294 rows x 7 columns]"
      ]
     },
     "execution_count": 7,
     "metadata": {},
     "output_type": "execute_result"
    }
   ],
   "source": [
    "df"
   ]
  },
  {
   "cell_type": "code",
   "execution_count": 9,
   "id": "a8f6ca53-9054-4e52-9ca3-e30f44baa6cc",
   "metadata": {},
   "outputs": [
    {
     "name": "stdout",
     "output_type": "stream",
     "text": [
      "\n",
      "Displaying the first few rows\n",
      "   anime_id                              name  \\\n",
      "0     32281                    Kimi no Na wa.   \n",
      "1      5114  Fullmetal Alchemist: Brotherhood   \n",
      "2     28977                          Gintama°   \n",
      "3      9253                       Steins;Gate   \n",
      "4      9969                     Gintama&#039;   \n",
      "\n",
      "                                               genre   type episodes  rating  \\\n",
      "0               Drama, Romance, School, Supernatural  Movie        1    9.37   \n",
      "1  Action, Adventure, Drama, Fantasy, Magic, Mili...     TV       64    9.26   \n",
      "2  Action, Comedy, Historical, Parody, Samurai, S...     TV       51    9.25   \n",
      "3                                   Sci-Fi, Thriller     TV       24    9.17   \n",
      "4  Action, Comedy, Historical, Parody, Samurai, S...     TV       51    9.16   \n",
      "\n",
      "   members  \n",
      "0   200630  \n",
      "1   793665  \n",
      "2   114262  \n",
      "3   673572  \n",
      "4   151266  \n",
      "\n",
      "Displaying dataset information\n",
      "<class 'pandas.core.frame.DataFrame'>\n",
      "RangeIndex: 12294 entries, 0 to 12293\n",
      "Data columns (total 7 columns):\n",
      " #   Column    Non-Null Count  Dtype  \n",
      "---  ------    --------------  -----  \n",
      " 0   anime_id  12294 non-null  int64  \n",
      " 1   name      12294 non-null  object \n",
      " 2   genre     12294 non-null  object \n",
      " 3   type      12294 non-null  object \n",
      " 4   episodes  12294 non-null  object \n",
      " 5   rating    12294 non-null  float64\n",
      " 6   members   12294 non-null  int64  \n",
      "dtypes: float64(1), int64(2), object(4)\n",
      "memory usage: 672.5+ KB\n",
      "None\n",
      "\n",
      "Displaying summary statistics\n",
      "           anime_id        rating       members\n",
      "count  12294.000000  12294.000000  1.229400e+04\n",
      "mean   14058.221653      6.473902  1.807134e+04\n",
      "std    11455.294701      1.017096  5.482068e+04\n",
      "min        1.000000      1.670000  5.000000e+00\n",
      "25%     3484.250000      5.900000  2.250000e+02\n",
      "50%    10260.500000      6.550000  1.550000e+03\n",
      "75%    24794.500000      7.170000  9.437000e+03\n",
      "max    34527.000000     10.000000  1.013917e+06\n"
     ]
    }
   ],
   "source": [
    "import numpy as np\n",
    "# Load the dataset\n",
    "df = pd.read_csv('anime.csv')\n",
    "\n",
    "# Handle missing values\n",
    "num_cols = df.select_dtypes(include=['int64', 'float64']).columns\n",
    "cat_cols = df.select_dtypes(include=['object']).columns\n",
    "\n",
    "# Fill missing values in numerical columns with the mean\n",
    "df[num_cols] = df[num_cols].fillna(df[num_cols].mean())\n",
    "\n",
    "# Fill missing values in categorical columns with the mode\n",
    "df[cat_cols] = df[cat_cols].fillna(df[cat_cols].mode().iloc[0])\n",
    "\n",
    "# Explore the dataset\n",
    "print(\"\\nDisplaying the first few rows\")\n",
    "print(df.head())  # Display the first few rows\n",
    "print(\"\\nDisplaying dataset information\")\n",
    "print(df.info())  # Display dataset information\n",
    "print(\"\\nDisplaying summary statistics\")\n",
    "print(df.describe())  # Display summary statistics"
   ]
  },
  {
   "cell_type": "code",
   "execution_count": 11,
   "id": "72030b06-0d21-4247-abc0-f3aae40862a0",
   "metadata": {},
   "outputs": [],
   "source": [
    "from sklearn.preprocessing import OneHotEncoder\n",
    "\n",
    "# One-hot encode the genre feature\n",
    "genre_encoder = OneHotEncoder(sparse_output=False, handle_unknown='ignore')\n",
    "# Correctly access the 'genre' column within the DataFrame\n",
    "genre_onehot = genre_encoder.fit_transform(df[['genre']])\n",
    "\n",
    "# Concatenate the one-hot encoded genre feature with the rating feature\n",
    "features = pd.concat([pd.DataFrame(genre_onehot), df[['rating']]], axis=1)\n",
    "features.index = df['anime_id']"
   ]
  },
  {
   "cell_type": "code",
   "execution_count": 12,
   "id": "7c4950b9-0585-4b9d-a60a-23b6679b1434",
   "metadata": {},
   "outputs": [
    {
     "data": {
      "text/plain": [
       "anime_id    0\n",
       "name        0\n",
       "genre       0\n",
       "type        0\n",
       "episodes    0\n",
       "rating      0\n",
       "members     0\n",
       "dtype: int64"
      ]
     },
     "execution_count": 12,
     "metadata": {},
     "output_type": "execute_result"
    }
   ],
   "source": [
    "df.isnull().sum()"
   ]
  },
  {
   "cell_type": "markdown",
   "id": "bcb574c7-bbdd-4ab1-9df3-c2b1bb234d8c",
   "metadata": {},
   "source": [
    "# Recommendation System"
   ]
  },
  {
   "cell_type": "code",
   "execution_count": 16,
   "id": "4893e386-e274-4f7e-b585-70b5fbb68e64",
   "metadata": {},
   "outputs": [],
   "source": [
    "from sklearn.metrics.pairwise import cosine_similarity\n",
    "\n",
    "def recommend_anime(target_anime_id, num_recommendations=5, threshold=0.5):\n",
    "    # Get the feature vector for the target anime\n",
    "    target_features = features.loc[target_anime_id]\n",
    "\n",
    "    # Convert target_features to a NumPy array and reshape\n",
    "    target_features = target_features.values.reshape(1, -1)\n",
    "\n",
    "    # Compute cosine similarity scores with all anime\n",
    "    similarity_scores = cosine_similarity(target_features, features)\n",
    "\n",
    "    # Get the indices of the top-N similar anime\n",
    "    top_n_indices = np.argsort(-similarity_scores[0])[:num_recommendations]\n",
    "\n",
    "    # Get a boolean array indicating anime above the threshold\n",
    "    above_threshold = similarity_scores[0][top_n_indices] > threshold\n",
    "\n",
    "    # Filter the top_n_indices based on the threshold\n",
    "    filtered_indices = top_n_indices[above_threshold]\n",
    "\n",
    "    # Use 'anime_id' index to filter the DataFrame with the filtered indices\n",
    "    recommended_anime = df[df['anime_id'].isin(features.index[filtered_indices])]\n",
    "\n",
    "    return recommended_anime"
   ]
  },
  {
   "cell_type": "markdown",
   "id": "d9ba0153-2030-4c37-acdb-790d951c3a50",
   "metadata": {},
   "source": [
    "# Evaluation"
   ]
  },
  {
   "cell_type": "code",
   "execution_count": 19,
   "id": "444740dc-91ee-4a60-b09e-1b01ac130d5c",
   "metadata": {},
   "outputs": [],
   "source": [
    "#import the new pakages"
   ]
  },
  {
   "cell_type": "code",
   "execution_count": 21,
   "id": "854bbe03-9e15-41a8-a518-7c041330ff49",
   "metadata": {},
   "outputs": [],
   "source": [
    "from sklearn.model_selection import train_test_split\n",
    "from sklearn.metrics import precision_score, recall_score, f1_score"
   ]
  },
  {
   "cell_type": "code",
   "execution_count": 23,
   "id": "672e6f9a-5d63-428c-8593-adabc32d3a24",
   "metadata": {},
   "outputs": [
    {
     "name": "stdout",
     "output_type": "stream",
     "text": [
      "Precision: 0.611\n",
      "Recall: 1.000\n",
      "F1-score: 0.759\n"
     ]
    }
   ],
   "source": [
    "# Extract the actual DataFrame from the nested structure (if needed)\n",
    "df = df[0][0] if isinstance(df, list) and isinstance(df[0], list) and isinstance(df[0][0], pd.DataFrame) else df\n",
    "# Split data into train and test sets\n",
    "train_df, test_df = train_test_split(df, test_size=0.2, random_state=42)\n",
    "\n",
    "def evaluate_recommendation_system():\n",
    "    actual_genres, recommended_genres = [], []\n",
    "    test_anime_ids = test_df['anime_id'].values\n",
    "    # Precompute similarity scores for test anime against all anime\n",
    "    similarity_scores = cosine_similarity(features.loc[test_anime_ids], features)\n",
    "\n",
    "    for i, target_anime_id in enumerate(test_anime_ids):\n",
    "        anime_similarity_scores = similarity_scores[i]\n",
    "        # Get indices of recommended anime above threshold (0.5)\n",
    "        filtered_indices = np.argsort(-anime_similarity_scores)[:5][anime_similarity_scores[np.argsort(-anime_similarity_scores)[:5]] > 0.5]\n",
    "        recommended_anime = df[df['anime_id'].isin(features.index[filtered_indices])]\n",
    "\n",
    "        if recommended_anime.empty:\n",
    "            continue\n",
    "\n",
    "        target_genres_set = set(test_df.iloc[i]['genre'].split(','))\n",
    "        recommended_genres_set = set(recommended_anime['genre'].str.cat(sep=',').split(','))\n",
    "\n",
    "        # Compare actual and recommended genres for precision/recall calculation\n",
    "        actual_genres.extend([1 if genre in target_genres_set else 0 for genre in recommended_genres_set])\n",
    "        recommended_genres.extend([1] * len(recommended_genres_set))\n",
    "\n",
    "    # Calculate and print evaluation metrics\n",
    "    precision = precision_score(actual_genres, recommended_genres, zero_division=0)\n",
    "    recall = recall_score(actual_genres, recommended_genres, zero_division=0)\n",
    "    f1 = f1_score(actual_genres, recommended_genres, zero_division=0)\n",
    "\n",
    "    print(f'Precision: {precision:.3f}\\nRecall: {recall:.3f}\\nF1-score: {f1:.3f}')\n",
    "\n",
    "evaluate_recommendation_system()"
   ]
  },
  {
   "cell_type": "code",
   "execution_count": 24,
   "id": "f8c707c8-659f-454e-8ec8-087dc919e55c",
   "metadata": {},
   "outputs": [
    {
     "data": {
      "text/plain": [
       "Index(['anime_id', 'name', 'genre', 'type', 'episodes', 'rating', 'members'], dtype='object')"
      ]
     },
     "execution_count": 24,
     "metadata": {},
     "output_type": "execute_result"
    }
   ],
   "source": [
    "df.columns"
   ]
  },
  {
   "cell_type": "markdown",
   "id": "b8a0acf7-e85b-480f-ae5a-629e8bcc4408",
   "metadata": {},
   "source": [
    "#Collaborative filtering methods(UBCF,IBCF)"
   ]
  },
  {
   "cell_type": "code",
   "execution_count": 61,
   "id": "d86c44a5-9cf0-45bf-8a02-b111e9d7afdc",
   "metadata": {},
   "outputs": [],
   "source": [
    "# 1. Generate synthetic user-item interactions\n",
    "num_users = 100\n",
    "num_ratings_per_user = 10\n",
    "ratings_data = []\n",
    "for user_id in range(1, num_users + 1):\n",
    "    anime_ids = df['anime_id'].sample(num_ratings_per_user, replace=False).values\n",
    "    ratings = np.random.randint(1, 11, size=num_ratings_per_user)"
   ]
  },
  {
   "cell_type": "code",
   "execution_count": 63,
   "id": "c3f4937c-ba4b-4a5d-a752-de2ed3284b5a",
   "metadata": {},
   "outputs": [
    {
     "data": {
      "text/plain": [
       "Index(['user_id', 'anime_id', 'rating'], dtype='object')"
      ]
     },
     "execution_count": 63,
     "metadata": {},
     "output_type": "execute_result"
    }
   ],
   "source": [
    "ratings_df.columns"
   ]
  },
  {
   "cell_type": "markdown",
   "id": "c1534d12-0e06-4836-a2f2-6501f89baadd",
   "metadata": {},
   "source": [
    "# IMPROVEMENTS\n",
    "Addressing Data Sparsity:\n",
    "\n",
    "**Dimensionality Reduction:** Apply Principal Component Analysis (PCA) to the features DataFrame to reduce the number of features while preserving important information. This can mitigate the impact of sparse one-hot encoded genre data."
   ]
  },
  {
   "cell_type": "markdown",
   "id": "9d0937b3-543c-472b-93ac-2976535e42bc",
   "metadata": {},
   "source": [
    "# **Interview Questions**"
   ]
  },
  {
   "cell_type": "markdown",
   "id": "ea776448-0230-4d0d-9fdb-a7bd7a3b1ab8",
   "metadata": {},
   "source": [
    "# **Interview Questions**\n",
    "\n",
    "**1. Can you explain the difference between user-based and item-based collaborative filtering?**\n",
    "\n",
    "**User-Based:** Finds similar users and recommends items they like.\n",
    "\n",
    "**Item-Based:** Finds similar items and recommends them to users who like those items.\n",
    "\n",
    "\n",
    "---\n",
    "**2. What is collaborative filtering, and how does it work?**\n",
    "\n",
    "**Definition:** Predicts user preferences based on other users' behavior.\n",
    "\n",
    "**Steps:**\n",
    "\n",
    "1.Collect user behavior data.\n",
    "\n",
    "2.Preprocess data.\n",
    "\n",
    "3.Build a model.\n",
    "\n",
    "4.Train the model.\n",
    "\n",
    "5.Make predictions.\n",
    "\n",
    "5.Generate recommendations.\n"
   ]
  },
  {
   "cell_type": "code",
   "execution_count": null,
   "id": "d69fdcfc-755f-4f39-b57c-40ef5ee8ffeb",
   "metadata": {},
   "outputs": [],
   "source": []
  }
 ],
 "metadata": {
  "kernelspec": {
   "display_name": "Python 3 (ipykernel)",
   "language": "python",
   "name": "python3"
  },
  "language_info": {
   "codemirror_mode": {
    "name": "ipython",
    "version": 3
   },
   "file_extension": ".py",
   "mimetype": "text/x-python",
   "name": "python",
   "nbconvert_exporter": "python",
   "pygments_lexer": "ipython3",
   "version": "3.12.4"
  }
 },
 "nbformat": 4,
 "nbformat_minor": 5
}
