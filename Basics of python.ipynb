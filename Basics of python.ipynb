{
 "cells": [
  {
   "cell_type": "markdown",
   "id": "fd81daf2-747d-42e6-8262-7404041ab53c",
   "metadata": {},
   "source": [
    "## Exercise 1: Prime Numbers"
   ]
  },
  {
   "cell_type": "code",
   "execution_count": 42,
   "id": "17888c84-37cc-4356-b98a-fc9dbcf56de0",
   "metadata": {},
   "outputs": [],
   "source": [
    " #Creating Function in a prime numbers"
   ]
  },
  {
   "cell_type": "code",
   "execution_count": 25,
   "id": "35b80d9c-d3ed-48e3-95f8-ef04ef468468",
   "metadata": {},
   "outputs": [
    {
     "name": "stdin",
     "output_type": "stream",
     "text": [
      "Enter a number to check if it's prime:  2\n"
     ]
    },
    {
     "name": "stdout",
     "output_type": "stream",
     "text": [
      "2 is a prime number.\n"
     ]
    }
   ],
   "source": [
    "def is_prime(num):\n",
    "    if num <= 1:\n",
    "        return False\n",
    "    for i in range(2, num):\n",
    "        if num % i == 0:\n",
    "            return False\n",
    "    return True\n",
    "#User Input\n",
    "number = int(input(\"Enter a number to check if it's prime: \")) \n",
    "# Callinig function\n",
    "if is_prime(number): \n",
    "    print(f\"{number} is a prime number.\")\n",
    "else:\n",
    "    print(f\"{number} is not a prime number.\")   "
   ]
  },
  {
   "cell_type": "markdown",
   "id": "88906e2f-1954-4848-bcd1-60290ea60461",
   "metadata": {},
   "source": [
    "## Exercise 2: Product of Random Numbers"
   ]
  },
  {
   "cell_type": "code",
   "execution_count": 27,
   "id": "66b7f0af-6392-4ca6-9990-969e0e4f268a",
   "metadata": {},
   "outputs": [
    {
     "name": "stdin",
     "output_type": "stream",
     "text": [
      "Enter the product of 10 and 6:  46\n"
     ]
    },
    {
     "name": "stdout",
     "output_type": "stream",
     "text": [
      "Incorrect. The correct answer is 60.\n"
     ]
    }
   ],
   "source": [
    "#Importing random to generate random numbers by definig ranges of numbers\n",
    "import random\n",
    "num1 = random.randint(1, 10)\n",
    "num2 = random.randint(1, 10)\n",
    "correct_product = num1 * num2\n",
    "user_answer = int(input(f\"Enter the product of {num1} and {num2}: \"))\n",
    "#Checking user answer with correct product\n",
    "if user_answer == correct_product:\n",
    "    print(\"Correct Answer\")\n",
    "else:\n",
    "    print(f\"Incorrect. The correct answer is {correct_product}.\")"
   ]
  },
  {
   "cell_type": "markdown",
   "id": "23ab0825-3cff-4885-8741-bca9137f249f",
   "metadata": {},
   "source": [
    "# Exercise 3: Squares of Even/Odd Numbers"
   ]
  },
  {
   "cell_type": "code",
   "execution_count": 29,
   "id": "cacf1698-b312-42ed-96ba-190062b63bc5",
   "metadata": {},
   "outputs": [
    {
     "name": "stdout",
     "output_type": "stream",
     "text": [
      "Square_Root of 100= 10000\n",
      "Square_Root of 102= 10404\n",
      "Square_Root of 104= 10816\n",
      "Square_Root of 106= 11236\n",
      "Square_Root of 108= 11664\n",
      "Square_Root of 110= 12100\n",
      "Square_Root of 112= 12544\n",
      "Square_Root of 114= 12996\n",
      "Square_Root of 116= 13456\n",
      "Square_Root of 118= 13924\n",
      "Square_Root of 120= 14400\n",
      "Square_Root of 122= 14884\n",
      "Square_Root of 124= 15376\n",
      "Square_Root of 126= 15876\n",
      "Square_Root of 128= 16384\n",
      "Square_Root of 130= 16900\n",
      "Square_Root of 132= 17424\n",
      "Square_Root of 134= 17956\n",
      "Square_Root of 136= 18496\n",
      "Square_Root of 138= 19044\n",
      "Square_Root of 140= 19600\n",
      "Square_Root of 142= 20164\n",
      "Square_Root of 144= 20736\n",
      "Square_Root of 146= 21316\n",
      "Square_Root of 148= 21904\n",
      "Square_Root of 150= 22500\n",
      "Square_Root of 152= 23104\n",
      "Square_Root of 154= 23716\n",
      "Square_Root of 156= 24336\n",
      "Square_Root of 158= 24964\n",
      "Square_Root of 160= 25600\n",
      "Square_Root of 162= 26244\n",
      "Square_Root of 164= 26896\n",
      "Square_Root of 166= 27556\n",
      "Square_Root of 168= 28224\n",
      "Square_Root of 170= 28900\n",
      "Square_Root of 172= 29584\n",
      "Square_Root of 174= 30276\n",
      "Square_Root of 176= 30976\n",
      "Square_Root of 178= 31684\n",
      "Square_Root of 180= 32400\n",
      "Square_Root of 182= 33124\n",
      "Square_Root of 184= 33856\n",
      "Square_Root of 186= 34596\n",
      "Square_Root of 188= 35344\n",
      "Square_Root of 190= 36100\n",
      "Square_Root of 192= 36864\n",
      "Square_Root of 194= 37636\n",
      "Square_Root of 196= 38416\n",
      "Square_Root of 198= 39204\n",
      "Square_Root of 200= 40000\n"
     ]
    }
   ],
   "source": [
    "# Change to 'odd' if you want odd numbers\n",
    "script = 'even' \n",
    "for num in range(100, 201):\n",
    "#For Odd --> if (script == 'even' and num % 2 != 0):    \n",
    "    if (script == 'even' and num % 2 == 0): \n",
    "        print(f\"Square_Root of {num}= {num ** 2}\")"
   ]
  },
  {
   "cell_type": "markdown",
   "id": "07459161-0069-431a-8848-0b41954175cf",
   "metadata": {},
   "source": [
    "# Exercise 4: Word Counter"
   ]
  },
  {
   "cell_type": "code",
   "execution_count": 35,
   "id": "dfe7b8af-6cb0-466d-af8b-4f3c3390fe05",
   "metadata": {},
   "outputs": [
    {
     "name": "stdout",
     "output_type": "stream",
     "text": [
      "this is a sample text this text will be used to demonstrate the word counter\n",
      "\n",
      "words\n",
      "'this': 2\n",
      "'is': 1\n",
      "'a': 1\n",
      "'sample': 1\n",
      "'text': 2\n",
      "'will': 1\n",
      "'be': 1\n",
      "'used': 1\n",
      "'to': 1\n",
      "'demonstrate': 1\n",
      "'the': 1\n",
      "'word': 1\n",
      "'counter': 1\n"
     ]
    }
   ],
   "source": [
    "from collections import Counter\n",
    "import string\n",
    "\n",
    "# Sample input text\n",
    "input_text = \"This is a sample text. This text will be used to demonstrate the word counter.\"\n",
    "# Remove punctuation and convert given text to lowercase word counter\n",
    "cleaned_text = input_text.translate(str.maketrans('', '', string.punctuation)).lower()\n",
    "print(cleaned_text)\n",
    "# Split text into word\n",
    "words = cleaned_text.split()\n",
    "print(\"\\nwords\")\n",
    "# Count occurrences of each word\n",
    "word_counts = Counter(words) \n",
    " # Print word counts\n",
    "for word, count in word_counts.items():\n",
    "    print(f\"'{word}': {count}\")"
   ]
  },
  {
   "cell_type": "markdown",
   "id": "20bf6892-c402-446f-b830-3bc2073982cb",
   "metadata": {},
   "source": [
    "# Exercise 5: Check for Palindrome"
   ]
  },
  {
   "cell_type": "code",
   "execution_count": 40,
   "id": "ee66f619-a7c7-482e-a08e-6a710c7bfa64",
   "metadata": {},
   "outputs": [
    {
     "name": "stdin",
     "output_type": "stream",
     "text": [
      "Enter a string to check if it's a palindrome:  Monster truck\n"
     ]
    },
    {
     "name": "stdout",
     "output_type": "stream",
     "text": [
      "'Monster truck' is not a palindrome.\n"
     ]
    }
   ],
   "source": [
    "input_string = input(\"Enter a string to check if it's a palindrome: \")\n",
    "if input_string == input_string[::-1]:\n",
    "    print(f\"'{input_string}' is a palindrome.\")\n",
    "else:\n",
    "    print(f\"'{input_string}' is not a palindrome.\")"
   ]
  }
 ],
 "metadata": {
  "kernelspec": {
   "display_name": "Python 3 (ipykernel)",
   "language": "python",
   "name": "python3"
  },
  "language_info": {
   "codemirror_mode": {
    "name": "ipython",
    "version": 3
   },
   "file_extension": ".py",
   "mimetype": "text/x-python",
   "name": "python",
   "nbconvert_exporter": "python",
   "pygments_lexer": "ipython3",
   "version": "3.12.4"
  }
 },
 "nbformat": 4,
 "nbformat_minor": 5
}
